{
 "cells": [
  {
   "cell_type": "markdown",
   "metadata": {},
   "source": [
    "<h1>Run Enriched Polygons Through Trained OSM Completeness Model</h1>\n",
    "<p>After enriching a collection of 250-m by 250-m grid cells, the output can be run through the trained OSM completeness model to produce predictions of OSM building footprint area.</p>"
   ]
  },
  {
   "cell_type": "code",
   "execution_count": 13,
   "metadata": {},
   "outputs": [],
   "source": [
    "import json\n",
    "import joblib\n",
    "import geopandas as gpd\n",
    "import pandas as pd\n",
    "import numpy as np\n",
    "from matplotlib.patches import Polygon as mpoly\n",
    "from matplotlib.collections import PatchCollection\n",
    "import cartopy as ccrs\n",
    "import cartopy\n",
    "import matplotlib\n",
    "import matplotlib.pyplot as plt\n",
    "import matplotlib.gridspec as gridspec\n",
    "from shapely.geometry import shape, box, mapping, Point, Polygon"
   ]
  },
  {
   "cell_type": "markdown",
   "metadata": {},
   "source": [
    "<h2>These are all variables that need to be set before running the notebook</h2>"
   ]
  },
  {
   "cell_type": "code",
   "execution_count": 2,
   "metadata": {},
   "outputs": [],
   "source": [
    "#file containing enriched cells on which to run the trained model\n",
    "inputFile = r\"P:\\AFG\\GEO\\Team\\Projects\\OSM_Completeness\\Jo_Testing\\Default_602\\kabul_enriched_default_602.json\"\n",
    "#file containing trained model .sav file from training notebook\n",
    "trainedModel = r\"P:\\AFG\\GEO\\Team\\Projects\\OSM_Completeness\\Jo_Testing\\Default_602\\afg_rf_model_default_602.sav\"\n",
    "#what output json file should be called (cells containing predicted area and completeness values)\n",
    "outputFile = r\"P:\\AFG\\GEO\\Team\\Projects\\OSM_Completeness\\Jo_Testing\\Default_602\\kabul_predicted_default_602.json\"\n",
    "\n",
    "#directory for images to be output\n",
    "outputDirectory = r\"P:\\AFG\\GEO\\Team\\Projects\\OSM_Completeness\\Jo_Testing\\Default_602\\\\\"\n",
    "\n",
    "#predicted area value below which a cell will be considered \"no built up area\"\n",
    "noBuildingThresh=5000"
   ]
  },
  {
   "cell_type": "code",
   "execution_count": 3,
   "metadata": {
    "scrolled": true
   },
   "outputs": [],
   "source": [
    "#load data\n",
    "with open(inputFile,'r') as data:\n",
    "    x = json.load(data)"
   ]
  },
  {
   "cell_type": "code",
   "execution_count": 4,
   "metadata": {},
   "outputs": [
    {
     "name": "stdout",
     "output_type": "stream",
     "text": [
      "76046\n"
     ]
    }
   ],
   "source": [
    "#create polygons for geodataframe\n",
    "polygons=[]\n",
    "for feature in x['features']:\n",
    "    g = shape(feature['geometry']).buffer(0)\n",
    "    polygons.append(g)\n",
    "print(len(polygons))"
   ]
  },
  {
   "cell_type": "code",
   "execution_count": 5,
   "metadata": {},
   "outputs": [],
   "source": [
    "def returnFeatureVals(featureString, variable):\n",
    "    return [x['properties'][featureString] for x in variable['features']]"
   ]
  },
  {
   "cell_type": "code",
   "execution_count": 6,
   "metadata": {},
   "outputs": [],
   "source": [
    "applyFeatureDict = {\n",
    "    'ndbi':returnFeatureVals('ndbi', x),\n",
    "    'ndvi':returnFeatureVals('ndvi', x),\n",
    "    'savi':returnFeatureVals('savi', x),\n",
    "    'ui':returnFeatureVals('ui', x),\n",
    "    'viirs':returnFeatureVals('viirs', x),\n",
    "    'slope':returnFeatureVals('slope', x),\n",
    "    'texture':returnFeatureVals('texture', x),\n",
    "    'forest':returnFeatureVals('forest', x),\n",
    "    'popWP':returnFeatureVals('popWP',x),\n",
    "    'popGUF':returnFeatureVals('popGUF',x),\n",
    "    'popGLC':returnFeatureVals('popGLC',x),\n",
    "    'area':returnFeatureVals('area',x)\n",
    "}\n",
    "applyDF = pd.DataFrame.from_dict(applyFeatureDict)\n",
    "applyGeoDF = gpd.GeoDataFrame(applyDF,crs = 4326, geometry=polygons)\n",
    "applyGeoDF = applyGeoDF.fillna(0)"
   ]
  },
  {
   "cell_type": "code",
   "execution_count": 7,
   "metadata": {},
   "outputs": [],
   "source": [
    "model = joblib.load(trainedModel)"
   ]
  },
  {
   "cell_type": "code",
   "execution_count": 8,
   "metadata": {},
   "outputs": [],
   "source": [
    "applyFeatureDF = applyGeoDF[['ndbi','ndvi','savi','ui','viirs','slope','texture','forest','popWP','popGUF','popGLC']]\n",
    "applyTargetDF = applyGeoDF['area']"
   ]
  },
  {
   "cell_type": "code",
   "execution_count": 9,
   "metadata": {},
   "outputs": [],
   "source": [
    "y_apply = model.predict(applyFeatureDF)"
   ]
  },
  {
   "cell_type": "code",
   "execution_count": 10,
   "metadata": {},
   "outputs": [],
   "source": [
    "for i,feature in enumerate(x['features']):\n",
    "    area = x['features'][i]['properties']['area']\n",
    "    #erase other properties for smaller output file\n",
    "    feature['properties'] = {}\n",
    "    #predicted OSM building footprint area\n",
    "    feature['properties']['parea'] = y_apply[i]\n",
    "    #actual mapped building footprint area\n",
    "    feature['properties']['builtArea'] = area"
   ]
  },
  {
   "cell_type": "code",
   "execution_count": 11,
   "metadata": {},
   "outputs": [],
   "source": [
    "#saving output\n",
    "with open(outputFile,'w') as f:\n",
    "    json.dump(x,f)"
   ]
  },
  {
   "cell_type": "markdown",
   "metadata": {},
   "source": [
    "<h2>Plotting output for quick visualization</h2>"
   ]
  },
  {
   "cell_type": "code",
   "execution_count": 15,
   "metadata": {
    "scrolled": true
   },
   "outputs": [
    {
     "name": "stdout",
     "output_type": "stream",
     "text": [
      "0 of 76046\n",
      "1000 of 76046\n",
      "2000 of 76046\n",
      "3000 of 76046\n",
      "4000 of 76046\n",
      "5000 of 76046\n",
      "6000 of 76046\n",
      "7000 of 76046\n",
      "8000 of 76046\n",
      "9000 of 76046\n",
      "10000 of 76046\n",
      "11000 of 76046\n",
      "12000 of 76046\n",
      "13000 of 76046\n",
      "14000 of 76046\n",
      "15000 of 76046\n",
      "16000 of 76046\n",
      "17000 of 76046\n",
      "18000 of 76046\n",
      "19000 of 76046\n",
      "20000 of 76046\n",
      "21000 of 76046\n",
      "22000 of 76046\n",
      "23000 of 76046\n",
      "24000 of 76046\n",
      "25000 of 76046\n",
      "26000 of 76046\n",
      "27000 of 76046\n",
      "28000 of 76046\n",
      "29000 of 76046\n",
      "30000 of 76046\n",
      "31000 of 76046\n",
      "32000 of 76046\n",
      "33000 of 76046\n",
      "34000 of 76046\n",
      "35000 of 76046\n",
      "36000 of 76046\n",
      "37000 of 76046\n",
      "38000 of 76046\n",
      "39000 of 76046\n",
      "40000 of 76046\n",
      "41000 of 76046\n",
      "42000 of 76046\n",
      "43000 of 76046\n",
      "44000 of 76046\n",
      "45000 of 76046\n",
      "46000 of 76046\n",
      "47000 of 76046\n",
      "48000 of 76046\n",
      "49000 of 76046\n",
      "50000 of 76046\n",
      "51000 of 76046\n",
      "52000 of 76046\n",
      "53000 of 76046\n",
      "54000 of 76046\n",
      "55000 of 76046\n",
      "56000 of 76046\n",
      "57000 of 76046\n",
      "58000 of 76046\n",
      "59000 of 76046\n",
      "60000 of 76046\n",
      "61000 of 76046\n",
      "62000 of 76046\n",
      "63000 of 76046\n",
      "64000 of 76046\n",
      "65000 of 76046\n",
      "66000 of 76046\n",
      "67000 of 76046\n",
      "68000 of 76046\n",
      "69000 of 76046\n",
      "70000 of 76046\n",
      "71000 of 76046\n",
      "72000 of 76046\n",
      "73000 of 76046\n",
      "74000 of 76046\n",
      "75000 of 76046\n",
      "76000 of 76046\n"
     ]
    },
    {
     "name": "stderr",
     "output_type": "stream",
     "text": [
      "<ipython-input-15-2fcb241927bb>:73: UserWarning: constrained_layout not applied.  At least one axes collapsed to zero width or height.\n",
      "  plt.savefig(outputDirectory+'predicted.png',bbox_inches='tight',dpi=1000)\n",
      "<ipython-input-15-2fcb241927bb>:88: UserWarning: constrained_layout not applied.  At least one axes collapsed to zero width or height.\n",
      "  plt.savefig(outputDirectory+'ratio.png',bbox_inches='tight',dpi=1000)\n"
     ]
    }
   ],
   "source": [
    "from matplotlib import collections\n",
    "#import as dictionary\n",
    "with open(outputFile,\"r\") as data:\n",
    "    x = json.load(data)\n",
    "#load as dataframe\n",
    "plotdf = gpd.read_file(outputFile)\n",
    "\n",
    "bounds = plotdf.total_bounds\n",
    "\n",
    "bounds = [bounds[0], bounds[2], bounds[1], bounds[3]]\n",
    "\n",
    "clat = (bounds[2]+bounds[3])/2\n",
    "clon = (bounds[0]+bounds[1])/2\n",
    "\n",
    "features = x['features']\n",
    "polys=[]\n",
    "#predicted area\n",
    "vals = []\n",
    "#completeness\n",
    "vals2 = []\n",
    "lws=[]\n",
    "for i,feature in enumerate(features):\n",
    "    if (i%1000)==0:\n",
    "        print(f'{i} of {len(features)}')\n",
    "    \n",
    "    coords = feature['geometry']['coordinates'][0]\n",
    "    x=[]\n",
    "    y=[]\n",
    "    \n",
    "    vals.append(feature['properties']['parea'])\n",
    "        \n",
    "    try:\n",
    "        vals2.append(feature['properties']['builtArea']/feature['properties']['parea'])\n",
    "    except:\n",
    "        vals2.append(0)\n",
    "        \n",
    "    for point in coords:\n",
    "        x.append(point[0])\n",
    "        y.append(point[1])\n",
    "    transformed = ccrs.crs.LambertConformal(central_latitude=clat,central_longitude=clon).transform_points(ccrs.crs.PlateCarree(),np.asarray(x),np.asarray(y))\n",
    "    polys.append(mpoly(transformed[:,0:2]))\n",
    "    lws.append(0.05)\n",
    "\n",
    "cmap = matplotlib.cm.get_cmap('viridis')\n",
    "cmap2 = matplotlib.cm.get_cmap('RdYlGn')\n",
    "\n",
    "norm = matplotlib.colors.Normalize(vmin=0,vmax=np.nanmax(vals))\n",
    "norm2 = matplotlib.colors.Normalize(vmin=0,vmax=1)\n",
    "fcs = cmap(norm(vals))\n",
    "vals2 = np.asarray(vals2)\n",
    "vals2[vals2>1] = 1\n",
    "fcs2 = cmap2(norm2(vals2))\n",
    "\n",
    "fcs2[np.asarray(vals)<noBuildingThresh] = (.9,.9,.9,1)\n",
    "\n",
    "\n",
    "pc=PatchCollection(polys, facecolors=fcs,edgecolors=fcs,linewidths=lws)   \n",
    "pc2=PatchCollection(polys, facecolors=fcs2,edgecolors=fcs2,linewidths=lws)   \n",
    "\n",
    "\n",
    "fig = plt.figure(constrained_layout = True)\n",
    "\n",
    "gs = fig.add_gridspec(20,10)\n",
    "ax1 = fig.add_subplot(gs[0:19,:],projection=ccrs.crs.LambertConformal(central_latitude=clat,central_longitude=clon))\n",
    "ax2= fig.add_subplot(gs[19::,:])\n",
    "ax1.set_extent(bounds)\n",
    "ax1.set_title('Predicted Area',fontsize=10)\n",
    "ax1.add_collection(pc)\n",
    "cb=fig.colorbar(matplotlib.cm.ScalarMappable(norm=norm, cmap=cmap),\n",
    "             cax=ax2, orientation='horizontal')\n",
    "cb.ax.tick_params(labelsize=8)\n",
    "cb.set_label(label=\"Area (square meters)\",fontsize=8)\n",
    "plt.savefig(outputDirectory+'predicted.png',bbox_inches='tight',dpi=1000)\n",
    "plt.close(fig)\n",
    "\n",
    "fig = plt.figure(constrained_layout = True)\n",
    "\n",
    "gs = fig.add_gridspec(20,10)\n",
    "ax1 = fig.add_subplot(gs[0:19,:],projection=ccrs.crs.LambertConformal(central_latitude=clat,central_longitude=clon))\n",
    "ax2= fig.add_subplot(gs[19::,:])\n",
    "ax1.set_extent(bounds)\n",
    "ax1.set_title('Ratio Predicted to Actual Area',fontsize=10)\n",
    "ax1.add_collection(pc2)\n",
    "cb=fig.colorbar(matplotlib.cm.ScalarMappable(norm=norm2, cmap=cmap2),\n",
    "             cax=ax2, orientation='horizontal')\n",
    "cb.ax.tick_params(labelsize=8)\n",
    "cb.set_label(label=\"Ratio\",fontsize=8)\n",
    "plt.savefig(outputDirectory+'ratio.png',bbox_inches='tight',dpi=1000)\n",
    "plt.close(fig)"
   ]
  },
  {
   "cell_type": "code",
   "execution_count": 16,
   "metadata": {},
   "outputs": [
    {
     "name": "stdout",
     "output_type": "stream",
     "text": [
      "18653102.0 meters squared has been mapped\n",
      "477816528.0 meters squared needs to be mapped\n",
      "3.8 percent of footprint has been mapped\n"
     ]
    }
   ],
   "source": [
    "#quantitative assessment of unmapped footprint area. Assumes a completeness ratio > 0.5 is mapped\n",
    "builtUpIdx = np.nonzero(np.asarray(vals)>=noBuildingThresh)\n",
    "builtUp = vals2[builtUpIdx]\n",
    "\n",
    "areasBuilt = np.asarray(vals)[builtUpIdx]\n",
    "\n",
    "completeIdx = np.nonzero(builtUp>=0.5)\n",
    "incompleteIdx = np.nonzero(builtUp<0.5)\n",
    "completeAreas = areasBuilt[completeIdx]\n",
    "incompleteAreas = areasBuilt[incompleteIdx]\n",
    "\n",
    "complete = builtUp[completeIdx]\n",
    "incomplete = builtUp[incompleteIdx]\n",
    "\n",
    "mappedBuildings=np.sum(completeAreas)\n",
    "unmappedBuildings=np.sum(incompleteAreas)\n",
    "print(f'{np.round(mappedBuildings)} meters squared has been mapped')\n",
    "print(f'{np.round(unmappedBuildings)} meters squared needs to be mapped')\n",
    "print(f'{np.round(100*mappedBuildings/(unmappedBuildings+mappedBuildings),decimals=1)} percent of footprint has been mapped')"
   ]
  },
  {
   "cell_type": "code",
   "execution_count": null,
   "metadata": {},
   "outputs": [],
   "source": []
  }
 ],
 "metadata": {
  "kernelspec": {
   "display_name": "Python 3",
   "language": "python",
   "name": "python3"
  },
  "language_info": {
   "codemirror_mode": {
    "name": "ipython",
    "version": 3
   },
   "file_extension": ".py",
   "mimetype": "text/x-python",
   "name": "python",
   "nbconvert_exporter": "python",
   "pygments_lexer": "ipython3",
   "version": "3.8.1"
  }
 },
 "nbformat": 4,
 "nbformat_minor": 4
}
